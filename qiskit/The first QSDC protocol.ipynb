{
 "cells": [
  {
   "attachments": {},
   "cell_type": "markdown",
   "metadata": {},
   "source": [
    "# The first QSDC protocol\n",
    "\n",
    "```Li, Y.B., Wen, Q.Y., Gao, F. et al. Information leak in Liu et al.’s quantum private comparison and a new protocol. Eur. Phys. J. D 66, 110 (2012). https://doi.org/10.1140/epjd/e2012-30065-9```"
   ]
  },
  {
   "attachments": {},
   "cell_type": "markdown",
   "metadata": {},
   "source": [
    "|Φ±⟩ = 1/√2(|00⟩ ± |11⟩)  \n",
    "|Ψ±⟩ = 1/√2(|01⟩ ± |10⟩)"
   ]
  },
  {
   "attachments": {},
   "cell_type": "markdown",
   "metadata": {},
   "source": [
    "1. The message bits are encoded in EPR pairs by using the following rule: 00 → |Φ+⟩, 01 → |Φ−⟩, 10 → |Ψ+⟩ and 11 → |Ψ−⟩."
   ]
  },
  {
   "attachments": {},
   "cell_type": "markdown",
   "metadata": {},
   "source": [
    "2. Alice prepares EPR pairs corresponding to her message bits and she takes one qubit from each EPR pair to form a sequence 𝑄𝐴. The remaining partner qubit of each EPR pair forms another sequence 𝑄𝐵 and she sends it to Bob."
   ]
  },
  {
   "attachments": {},
   "cell_type": "markdown",
   "metadata": {},
   "source": [
    "3. Bob chooses some qubits of 𝑄𝐵 and measures those qubits randomly in 𝑍 basis (Computational) or 𝑋 basis (Hadamard). Then he tells the positions and the measurement bases of those qubits to Alice, who measures the partner qubits from 𝑄𝐴 in proper bases. They compare the measurement results publicly to check eavesdropping."
   ]
  },
  {
   "attachments": {},
   "cell_type": "markdown",
   "metadata": {},
   "source": [
    "4. If there is no eavesdropper, then Alice sends 𝑄𝐴 to Bob and he measures each pair of qubits (one from 𝑄𝐴 and another from 𝑄𝐵) in Bell basis. From the measurement result, Bob gets the message."
   ]
  },
  {
   "attachments": {},
   "cell_type": "markdown",
   "metadata": {},
   "source": [
    "5. They choose some random positions of the message bits to check the integrity of the message."
   ]
  },
  {
   "attachments": {},
   "cell_type": "markdown",
   "metadata": {},
   "source": [
    "### Assumptions:\n",
    "\n",
    "1. Channel is noiseless\n",
    "2. `5. They choose some random positions of the message bits to check the integrity of the message`. This step is not implemented as it is purely classical (and trivial)"
   ]
  },
  {
   "cell_type": "code",
   "execution_count": 15,
   "metadata": {},
   "outputs": [],
   "source": [
    "from qiskit import QuantumCircuit, Aer, execute\n",
    "from qiskit.tools.visualization import plot_histogram"
   ]
  },
  {
   "cell_type": "code",
   "execution_count": 16,
   "metadata": {},
   "outputs": [],
   "source": [
    "simulator = Aer.get_backend('qasm_simulator')"
   ]
  },
  {
   "cell_type": "code",
   "execution_count": 17,
   "metadata": {},
   "outputs": [],
   "source": [
    "def createBellState(M):\n",
    "    circuit = QuantumCircuit(2, 2)\n",
    "\n",
    "    if M[0] == \"1\":\n",
    "        circuit.x(1)\n",
    "    if M[1] == \"1\":\n",
    "        circuit.x(0)\n",
    "\n",
    "    circuit.h(0)\n",
    "\n",
    "    circuit.cx(0, 1)\n",
    "    return circuit"
   ]
  },
  {
   "cell_type": "code",
   "execution_count": 18,
   "metadata": {},
   "outputs": [],
   "source": [
    "def performMeasurement(circuit, qubit, basis):\n",
    "\t'''\n",
    "\tbasis = C (Computational), H (Hadamard) and B (Bell)\n",
    "\t'''\n",
    "\tif basis == 'C':\n",
    "\t\t\tcircuit.measure(qubit, qubit)\n",
    "\tif basis == 'H':\n",
    "\t\t\tcircuit.h(qubit)\n",
    "\t\t\tcircuit.measure(qubit, qubit)\n",
    "\tif basis == 'B':\n",
    "\t\t\tcircuit.cx(0, 1)\n",
    "\t\t\tcircuit.h(0)\n",
    "\t\t\tcircuit.measure(0, 0)\n",
    "\t\t\tcircuit.measure(1, 1)\n",
    "\treturn circuit"
   ]
  },
  {
   "cell_type": "code",
   "execution_count": 19,
   "metadata": {},
   "outputs": [],
   "source": [
    "# create a Checking Message\n",
    "\n",
    "C = [\"00\", \"01\", \"10\", \"11\", \"10\"]\n",
    "\n",
    "### define hadamard measurements and computational measurements\n",
    "\n",
    "HM = {\n",
    "    \"00\": list(sorted([\"00\", \"11\"])),\n",
    "    \"01\": list(sorted([\"01\", \"10\"])),\n",
    "    \"10\": list(sorted([\"00\", \"11\"])),\n",
    "    \"11\": list(sorted([\"01\", \"10\"])),\n",
    "    }\n",
    "CM = {\n",
    "    \"00\": list(sorted([\"00\", \"11\"])),\n",
    "    \"01\": list(sorted([\"00\", \"11\"])),\n",
    "    \"10\": list(sorted([\"01\", \"10\"])),\n",
    "    \"11\": list(sorted([\"01\", \"10\"])),\n",
    "    }"
   ]
  },
  {
   "cell_type": "code",
   "execution_count": 20,
   "metadata": {},
   "outputs": [],
   "source": [
    "# encode\n",
    "\n",
    "circuits = [createBellState(b) for b in C]"
   ]
  },
  {
   "cell_type": "code",
   "execution_count": 21,
   "metadata": {},
   "outputs": [],
   "source": [
    "# send/tamper\n",
    "\n",
    "T = False # varible to decide if tampering should be performed\n",
    "# T = True # varible to decide if tampering should be performed\n",
    "\n",
    "# C = computational\n",
    "# H = hadamard\n",
    "\n",
    "tamperBases = ['H', 'C', 'H', 'C', 'H']\n",
    "\n",
    "if T:\n",
    "    for i in range(len(circuits)):\n",
    "        circuits[i] = performMeasurement(circuits[i], 1, tamperBases[i])"
   ]
  },
  {
   "cell_type": "code",
   "execution_count": 22,
   "metadata": {},
   "outputs": [],
   "source": [
    "# measurement by bob\n",
    "\n",
    "# C = computational\n",
    "# H = hadamard\n",
    "\n",
    "bobBases = ['C', 'C', 'H', 'H', 'H']\n",
    "\n",
    "for i in range(len(circuits)):\n",
    "    circuits[i] = performMeasurement(circuits[i], 1, bobBases[i])"
   ]
  },
  {
   "cell_type": "code",
   "execution_count": 23,
   "metadata": {},
   "outputs": [],
   "source": [
    "# measurement by alice\n",
    "\n",
    "results = [None]*len(circuits)\n",
    "counts = [None]*len(circuits)\n",
    "\n",
    "for i in range(len(circuits)):\n",
    "    circuits[i] = performMeasurement(circuits[i], 0, bobBases[i])\n",
    "    results[i] = execute(circuits[i], backend=simulator).result()\n",
    "    counts[i] = results[i].get_counts(circuits[i])"
   ]
  },
  {
   "cell_type": "code",
   "execution_count": 24,
   "metadata": {},
   "outputs": [],
   "source": [
    "# verify\n",
    "\n",
    "total = len(C)\n",
    "correct = 0\n",
    "\n",
    "for i in range(len(C)):\n",
    "    if bobBases[i] == \"H\":\n",
    "        if HM[C[i]] == list(sorted(counts[i].keys())):\n",
    "            correct += 1\n",
    "    else:\n",
    "        if CM[C[i]] == list(sorted(counts[i].keys())):\n",
    "            correct += 1"
   ]
  },
  {
   "cell_type": "code",
   "execution_count": 25,
   "metadata": {},
   "outputs": [
    {
     "name": "stdout",
     "output_type": "stream",
     "text": [
      "Channel is secure\n",
      "Message is:\n",
      "00 | 00 | 00 | 10 | 00\n"
     ]
    }
   ],
   "source": [
    "if correct/total < 0.5:\n",
    "    print(\"Eavesdropper present\")\n",
    "else:\n",
    "    print(\"Channel is secure\")\n",
    "\n",
    "    # num = input()\n",
    "    num = 11\n",
    "    bnum = bin(num)[2:]\n",
    "    if len(bnum)%2 != 0:\n",
    "        bnum = \"0\"+bnum\n",
    "\n",
    "    for j in range(len(bnum)-4):\n",
    "\n",
    "        Message = [\"00\", \"00\", \"00\", \"10\", \"11\"]\n",
    "\n",
    "        MessageCircuits = [createBellState(b) for b in Message]\n",
    "\n",
    "        MessageResults = [None]*len(MessageCircuits)\n",
    "        MessageCounts = [None]*len(MessageCircuits)\n",
    "\n",
    "        for i in range(len(MessageCircuits)):\n",
    "            MessageCircuits[i] = performMeasurement(MessageCircuits[i], -1, \"B\")\n",
    "            MessageResults[i] = execute(MessageCircuits[i], backend=simulator).result()\n",
    "            MessageCounts[i] = MessageResults[i].get_counts(MessageCircuits[i])\n",
    "        print(\"Message is:\")\n",
    "        print(\" | \".join([list(m.keys())[0] for m in MessageCounts]))"
   ]
  },
  {
   "cell_type": "code",
   "execution_count": 26,
   "metadata": {},
   "outputs": [
    {
     "data": {
      "text/html": [
       "<pre style=\"word-wrap: normal;white-space: pre;background: #fff0;line-height: 1.1;font-family: &quot;Courier New&quot;,Courier,monospace\">        ┌───┐┌───┐     ┌───┐   ┌─┐\n",
       "q_0: |0>┤ X ├┤ H ├──■──┤ H ├───┤M├\n",
       "        ├───┤└───┘┌─┴─┐├───┤┌─┐└╥┘\n",
       "q_1: |0>┤ X ├─────┤ X ├┤ H ├┤M├─╫─\n",
       "        └───┘     └───┘└───┘└╥┘ ║ \n",
       " c_0: 0 ═════════════════════╬══╩═\n",
       "                             ║    \n",
       " c_1: 0 ═════════════════════╩════\n",
       "                                  </pre>"
      ],
      "text/plain": [
       "        ┌───┐┌───┐     ┌───┐   ┌─┐\n",
       "q_0: |0>┤ X ├┤ H ├──■──┤ H ├───┤M├\n",
       "        ├───┤└───┘┌─┴─┐├───┤┌─┐└╥┘\n",
       "q_1: |0>┤ X ├─────┤ X ├┤ H ├┤M├─╫─\n",
       "        └───┘     └───┘└───┘└╥┘ ║ \n",
       " c_0: 0 ═════════════════════╬══╩═\n",
       "                             ║    \n",
       " c_1: 0 ═════════════════════╩════\n",
       "                                  "
      ]
     },
     "execution_count": 26,
     "metadata": {},
     "output_type": "execute_result"
    }
   ],
   "source": [
    "circuits[3].draw(initial_state=True, cregbundle=False)"
   ]
  },
  {
   "cell_type": "code",
   "execution_count": 27,
   "metadata": {},
   "outputs": [
    {
     "data": {
      "text/html": [
       "<pre style=\"word-wrap: normal;white-space: pre;background: #fff0;line-height: 1.1;font-family: &quot;Courier New&quot;,Courier,monospace\">        ┌───┐          ┌───┐┌─┐\n",
       "q_0: |0>┤ H ├──■────■──┤ H ├┤M├\n",
       "        ├───┤┌─┴─┐┌─┴─┐└┬─┬┘└╥┘\n",
       "q_1: |0>┤ X ├┤ X ├┤ X ├─┤M├──╫─\n",
       "        └───┘└───┘└───┘ └╥┘  ║ \n",
       " c_0: 0 ═════════════════╬═══╩═\n",
       "                         ║     \n",
       " c_1: 0 ═════════════════╩═════\n",
       "                               </pre>"
      ],
      "text/plain": [
       "        ┌───┐          ┌───┐┌─┐\n",
       "q_0: |0>┤ H ├──■────■──┤ H ├┤M├\n",
       "        ├───┤┌─┴─┐┌─┴─┐└┬─┬┘└╥┘\n",
       "q_1: |0>┤ X ├┤ X ├┤ X ├─┤M├──╫─\n",
       "        └───┘└───┘└───┘ └╥┘  ║ \n",
       " c_0: 0 ═════════════════╬═══╩═\n",
       "                         ║     \n",
       " c_1: 0 ═════════════════╩═════\n",
       "                               "
      ]
     },
     "execution_count": 27,
     "metadata": {},
     "output_type": "execute_result"
    }
   ],
   "source": [
    "MessageCircuits[3].draw(initial_state=True, cregbundle=False)"
   ]
  }
 ],
 "metadata": {
  "kernelspec": {
   "display_name": ".venv",
   "language": "python",
   "name": "python3"
  },
  "language_info": {
   "codemirror_mode": {
    "name": "ipython",
    "version": 3
   },
   "file_extension": ".py",
   "mimetype": "text/x-python",
   "name": "python",
   "nbconvert_exporter": "python",
   "pygments_lexer": "ipython3",
   "version": "3.9.13"
  },
  "orig_nbformat": 4
 },
 "nbformat": 4,
 "nbformat_minor": 2
}
