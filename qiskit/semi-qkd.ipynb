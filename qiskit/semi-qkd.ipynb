{
 "cells": [
  {
   "attachments": {},
   "cell_type": "markdown",
   "metadata": {},
   "source": [
    "# [Semi-Quantum Key Distribution](https://arxiv.org/pdf/0812.4835.pdf)"
   ]
  },
  {
   "cell_type": "code",
   "execution_count": 148,
   "metadata": {},
   "outputs": [],
   "source": [
    "from qiskit import *\n",
    "import math\n",
    "import numpy as np\n",
    "simulator = Aer.get_backend('qasm_simulator')"
   ]
  },
  {
   "attachments": {},
   "cell_type": "markdown",
   "metadata": {},
   "source": [
    "## Protocol 2"
   ]
  },
  {
   "cell_type": "code",
   "execution_count": 149,
   "metadata": {},
   "outputs": [],
   "source": [
    "def encode(basis, val):\n",
    "\t'''\n",
    "\tbasis = 0 (Computational), 1 (Hadamard)\n",
    "\t'''\n",
    "\tcircuit = QuantumCircuit(1, 1)\n",
    "\tif val == \"1\":\n",
    "\t\tcircuit.x(0)\n",
    "\tif basis == 1:\n",
    "\t\tcircuit.h(0)\n",
    "\treturn circuit"
   ]
  },
  {
   "cell_type": "code",
   "execution_count": 150,
   "metadata": {},
   "outputs": [
    {
     "data": {
      "text/plain": [
       "18"
      ]
     },
     "execution_count": 150,
     "metadata": {},
     "output_type": "execute_result"
    }
   ],
   "source": [
    "delta = 1/8\n",
    "n = 2\n",
    "N = math.ceil(8*n*(1+delta))\n",
    "N"
   ]
  },
  {
   "cell_type": "code",
   "execution_count": 151,
   "metadata": {},
   "outputs": [
    {
     "data": {
      "text/plain": [
       "('000110011001011000',\n",
       " array([0, 0, 1, 0, 0, 0, 1, 1, 0, 0, 0, 0, 1, 0, 0, 1, 0, 0]),\n",
       " array([0, 1, 1, 0, 1, 1, 0, 1, 0, 1, 1, 1, 1, 1, 1, 0, 0, 1]))"
      ]
     },
     "execution_count": 151,
     "metadata": {},
     "output_type": "execute_result"
    }
   ],
   "source": [
    "message = \"\".join([str(i) for i in list(np.random.randint(2, size=N))])\n",
    "alice_basis = np.random.randint(2, size=N)\n",
    "bob_basis = np.random.randint(2, size=N)\n",
    "message, alice_basis, bob_basis"
   ]
  },
  {
   "cell_type": "code",
   "execution_count": 152,
   "metadata": {},
   "outputs": [],
   "source": [
    "circuits = [None]*N"
   ]
  },
  {
   "cell_type": "code",
   "execution_count": 153,
   "metadata": {},
   "outputs": [],
   "source": [
    "for i in range(N):\n",
    "    circuits[i] = encode(alice_basis[i], message[i])"
   ]
  },
  {
   "cell_type": "code",
   "execution_count": 154,
   "metadata": {},
   "outputs": [
    {
     "data": {
      "text/plain": [
       "[None,\n",
       " {'0': 1024},\n",
       " {'1': 502, '0': 522},\n",
       " None,\n",
       " {'1': 1024},\n",
       " {'0': 1024},\n",
       " None,\n",
       " {'0': 529, '1': 495},\n",
       " None,\n",
       " {'0': 1024},\n",
       " {'0': 1024},\n",
       " {'1': 1024},\n",
       " {'0': 536, '1': 488},\n",
       " {'1': 1024},\n",
       " {'1': 1024},\n",
       " None,\n",
       " None,\n",
       " {'0': 1024}]"
      ]
     },
     "execution_count": 154,
     "metadata": {},
     "output_type": "execute_result"
    }
   ],
   "source": [
    "results_bob = [None]*len(circuits)\n",
    "counts_bob = [None]*len(circuits)\n",
    "\n",
    "for i in range(len(circuits)):\n",
    "    if bob_basis[i] == 1:\n",
    "        circuits[i].measure(0, 0)\n",
    "        results_bob[i] = execute(circuits[i], backend=simulator).result()\n",
    "        counts_bob[i] = results_bob[i].get_counts(circuits[i])\n",
    "\n",
    "counts_bob"
   ]
  },
  {
   "cell_type": "code",
   "execution_count": 155,
   "metadata": {},
   "outputs": [],
   "source": [
    "for i in range(N):\n",
    "    if bob_basis[i] == 0:\n",
    "        if alice_basis[i] == 1:\n",
    "            circuits[i].h(0)\n",
    "        circuits[i].measure(0, 0)"
   ]
  },
  {
   "cell_type": "code",
   "execution_count": 156,
   "metadata": {},
   "outputs": [
    {
     "data": {
      "text/plain": [
       "[{'0': 1024},\n",
       " None,\n",
       " None,\n",
       " {'1': 1024},\n",
       " None,\n",
       " None,\n",
       " {'0': 1024},\n",
       " None,\n",
       " {'1': 1024},\n",
       " None,\n",
       " None,\n",
       " None,\n",
       " None,\n",
       " None,\n",
       " None,\n",
       " {'0': 1024},\n",
       " {'0': 1024},\n",
       " None]"
      ]
     },
     "execution_count": 156,
     "metadata": {},
     "output_type": "execute_result"
    }
   ],
   "source": [
    "results_ctrl = [None]*len(circuits)\n",
    "counts_ctrl = [None]*len(circuits)\n",
    "\n",
    "for i in range(len(circuits)):\n",
    "    if bob_basis[i] == 0:\n",
    "        results_ctrl[i] = execute(circuits[i], backend=simulator).result()\n",
    "        counts_ctrl[i] = results_ctrl[i].get_counts(circuits[i])\n",
    "counts_ctrl"
   ]
  },
  {
   "cell_type": "code",
   "execution_count": 157,
   "metadata": {},
   "outputs": [
    {
     "data": {
      "text/plain": [
       "0"
      ]
     },
     "execution_count": 157,
     "metadata": {},
     "output_type": "execute_result"
    }
   ],
   "source": [
    "P_ctrl = 0\n",
    "\n",
    "for i in range(len(message)):\n",
    "    if counts_ctrl[i] and list(counts_ctrl[i].keys())[0] != message[i]:\n",
    "        P_ctrl += 1\n",
    "P_ctrl"
   ]
  },
  {
   "cell_type": "code",
   "execution_count": 158,
   "metadata": {},
   "outputs": [
    {
     "data": {
      "text/plain": [
       "[None,\n",
       " {'0': 1024},\n",
       " {'1': 513, '0': 511},\n",
       " None,\n",
       " {'1': 1024},\n",
       " {'0': 1024},\n",
       " None,\n",
       " {'0': 502, '1': 522},\n",
       " None,\n",
       " {'0': 1024},\n",
       " {'0': 1024},\n",
       " {'1': 1024},\n",
       " {'0': 510, '1': 514},\n",
       " {'1': 1024},\n",
       " {'1': 1024},\n",
       " None,\n",
       " None,\n",
       " {'0': 1024}]"
      ]
     },
     "execution_count": 158,
     "metadata": {},
     "output_type": "execute_result"
    }
   ],
   "source": [
    "results_sift = [None]*len(circuits)\n",
    "counts_sift = [None]*len(circuits)\n",
    "\n",
    "for i in range(len(circuits)):\n",
    "    if bob_basis[i] == 1:\n",
    "        results_sift[i] = execute(circuits[i], backend=simulator).result()\n",
    "        counts_sift[i] = results_sift[i].get_counts(circuits[i])\n",
    "counts_sift"
   ]
  },
  {
   "cell_type": "code",
   "execution_count": 159,
   "metadata": {},
   "outputs": [
    {
     "data": {
      "text/plain": [
       "2"
      ]
     },
     "execution_count": 159,
     "metadata": {},
     "output_type": "execute_result"
    }
   ],
   "source": [
    "P_sift = 0\n",
    "\n",
    "for i in range(len(message)):\n",
    "    if counts_sift[i] and list(counts_sift[i].keys())[0] != message[i]:\n",
    "        P_sift += 1\n",
    "P_sift"
   ]
  },
  {
   "attachments": {},
   "cell_type": "markdown",
   "metadata": {},
   "source": [
    "Instead of P_sift on all qubits, some sampled qubits are used. If error rate is below threshold. Then the remaining sift bits are the message"
   ]
  }
 ],
 "metadata": {
  "kernelspec": {
   "display_name": ".venv",
   "language": "python",
   "name": "python3"
  },
  "language_info": {
   "codemirror_mode": {
    "name": "ipython",
    "version": 3
   },
   "file_extension": ".py",
   "mimetype": "text/x-python",
   "name": "python",
   "nbconvert_exporter": "python",
   "pygments_lexer": "ipython3",
   "version": "3.9.13"
  },
  "orig_nbformat": 4
 },
 "nbformat": 4,
 "nbformat_minor": 2
}
