{
 "cells": [
  {
   "cell_type": "code",
   "execution_count": 3,
   "id": "c973a99b",
   "metadata": {},
   "outputs": [],
   "source": [
    "from qiskit import *"
   ]
  },
  {
   "cell_type": "code",
   "execution_count": 4,
   "id": "bdce5464",
   "metadata": {},
   "outputs": [],
   "source": [
    "qr = QuantumRegister(2) # create a 2 qubit quantum register"
   ]
  },
  {
   "cell_type": "code",
   "execution_count": 5,
   "id": "93d01de4",
   "metadata": {},
   "outputs": [],
   "source": [
    "cr = ClassicalRegister(2) # create 2 qubit classical register"
   ]
  },
  {
   "cell_type": "code",
   "execution_count": 22,
   "id": "ee04b97e",
   "metadata": {},
   "outputs": [],
   "source": [
    "circuit = QuantumCircuit(qr, cr) # create a quantum circuit"
   ]
  },
  {
   "cell_type": "code",
   "execution_count": 24,
   "id": "25f698c2",
   "metadata": {},
   "outputs": [
    {
     "data": {
      "text/plain": [
       "<qiskit.circuit.instructionset.InstructionSet at 0x27f625e28f0>"
      ]
     },
     "execution_count": 24,
     "metadata": {},
     "output_type": "execute_result"
    }
   ],
   "source": [
    "circuit.h(qr[0]) # apply hadamard on first qubit"
   ]
  },
  {
   "cell_type": "code",
   "execution_count": 25,
   "id": "4ba97079",
   "metadata": {},
   "outputs": [
    {
     "data": {
      "text/plain": [
       "<qiskit.circuit.instructionset.InstructionSet at 0x27f6482f6a0>"
      ]
     },
     "execution_count": 25,
     "metadata": {},
     "output_type": "execute_result"
    }
   ],
   "source": [
    "circuit.cx(qr[0], qr[1]) # apply controlled x gate"
   ]
  },
  {
   "cell_type": "code",
   "execution_count": 28,
   "id": "d0481a1b",
   "metadata": {},
   "outputs": [
    {
     "data": {
      "text/plain": [
       "<qiskit.circuit.instructionset.InstructionSet at 0x27f646cbe20>"
      ]
     },
     "execution_count": 28,
     "metadata": {},
     "output_type": "execute_result"
    }
   ],
   "source": [
    "circuit.measure(qr, cr)"
   ]
  },
  {
   "cell_type": "code",
   "execution_count": 30,
   "id": "28d3f7e8",
   "metadata": {},
   "outputs": [
    {
     "data": {
      "image/png": "[encoded data removed]",
      "text/plain": [
       "<Figure size 384.076x204.68 with 1 Axes>"
      ]
     },
     "execution_count": 30,
     "metadata": {},
     "output_type": "execute_result"
    }
   ],
   "source": [
    "circuit.draw(initial_state=True, output='mpl', cregbundle=False)"
   ]
  },
  {
   "cell_type": "code",
   "execution_count": 31,
   "id": "0c6a0e2d",
   "metadata": {},
   "outputs": [],
   "source": [
    "simulator = Aer.get_backend('qasm_simulator')"
   ]
  },
  {
   "cell_type": "code",
   "execution_count": 37,
   "id": "782cecbb",
   "metadata": {},
   "outputs": [],
   "source": [
    "result = execute(circuit, backend=simulator).result()"
   ]
  },
  {
   "cell_type": "code",
   "execution_count": 38,
   "id": "69c80800",
   "metadata": {},
   "outputs": [],
   "source": [
    "from qiskit.tools.visualization import plot_histogram"
   ]
  },
  {
   "cell_type": "code",
   "execution_count": 41,
   "id": "925829ac",
   "metadata": {},
   "outputs": [
    {
     "data": {
      "image/png": "[encoded data removed]",
      "text/plain": [
       "<Figure size 504x360 with 1 Axes>"
      ]
     },
     "execution_count": 41,
     "metadata": {},
     "output_type": "execute_result"
    }
   ],
   "source": [
    "plot_histogram(result.get_counts(circuit))"
   ]
  }
 ],
 "metadata": {
  "kernelspec": {
   "display_name": "Python 3.10.3 64-bit",
   "language": "python",
   "name": "python3"
  },
  "language_info": {
   "codemirror_mode": {
    "name": "ipython",
    "version": 3
   },
   "file_extension": ".py",
   "mimetype": "text/x-python",
   "name": "python",
   "nbconvert_exporter": "python",
   "pygments_lexer": "ipython3",
   "version": "3.10.3"
  },
  "vscode": {
   "interpreter": {
    "hash": "641aafc79017f99983c356d8d5e1703b7e6c8c201f432794c52a03b41bb834ee"
   }
  }
 },
 "nbformat": 4,
 "nbformat_minor": 5
}
