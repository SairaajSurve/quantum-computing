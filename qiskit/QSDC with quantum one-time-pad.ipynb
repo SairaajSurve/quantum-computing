{
 "cells": [
  {
   "attachments": {},
   "cell_type": "markdown",
   "metadata": {},
   "source": [
    "# QSDC with quantum one-time-pad\n",
    "\n",
    "```\n",
    "@misc{deng2022repeatable,\n",
    "      title={Repeatable classical one-time-pad crypto-system with quantum mechanics}, \n",
    "      author={Fu-Guo Deng and Gui Lu Long},\n",
    "      year={2022},\n",
    "      eprint={1902.04218},\n",
    "      archivePrefix={arXiv},\n",
    "      primaryClass={quant-ph}\n",
    "}\n",
    "```"
   ]
  },
  {
   "attachments": {},
   "cell_type": "markdown",
   "metadata": {},
   "source": [
    "1. Bob prepares a sequence 𝑄 of single-qubit states, where each 𝑄𝑖 is randomly chosen from {|0⟩ , |1⟩ , |+⟩ , |−⟩} and sends the sequence 𝑄 to Alice."
   ]
  },
  {
   "attachments": {},
   "cell_type": "markdown",
   "metadata": {},
   "source": [
    "2. Alice chooses some qubits of 𝑄 and randomly measures in 𝑍 and 𝑋 bases. Then they publicly discuss the positions and the measurement results to calculate the error rate in the channel. A higher error rate implies the presence of some eavesdroppers and then they abort. Otherwise, Alice applies the unitary 𝑈0 and 𝑈3, on the remaining qubits, to encode her message bit 0 and 1 respectively. Note that 𝑈0 does not change the states and 𝑈3 flips the states, i.e., 𝑈3 |0⟩ = |1⟩, 𝑈3 |1⟩ = |0⟩, 𝑈3 |+⟩ = |−⟩ and 𝑈3 |−⟩ = |+⟩."
   ]
  },
  {
   "attachments": {},
   "cell_type": "markdown",
   "metadata": {},
   "source": [
    "3. Alice sends those encoded qubits to Bob, who measures those qubits in proper bases and\n",
    "gets the secret message."
   ]
  },
  {
   "attachments": {},
   "cell_type": "markdown",
   "metadata": {},
   "source": [
    "### Assumptions:\n",
    "\n",
    "1. Channel is noiseless"
   ]
  },
  {
   "cell_type": "code",
   "execution_count": 239,
   "metadata": {},
   "outputs": [],
   "source": [
    "from qiskit import QuantumCircuit, Aer, execute\n",
    "from qiskit.tools.visualization import plot_histogram"
   ]
  },
  {
   "cell_type": "code",
   "execution_count": 240,
   "metadata": {},
   "outputs": [],
   "source": [
    "simulator = Aer.get_backend('qasm_simulator')"
   ]
  },
  {
   "cell_type": "code",
   "execution_count": 241,
   "metadata": {},
   "outputs": [],
   "source": [
    "def performMeasurement(circuit, qubit, basis):\n",
    "\t'''\n",
    "\tbasis = C (Computational), H (Hadamard)\n",
    "\t'''\n",
    "\tif basis == 'C':\n",
    "\t\t\tcircuit.measure(qubit, qubit)\n",
    "\tif basis == 'H':\n",
    "\t\t\tcircuit.h(qubit)\n",
    "\t\t\tcircuit.measure(qubit, qubit)\n",
    "\treturn circuit"
   ]
  },
  {
   "cell_type": "code",
   "execution_count": 242,
   "metadata": {},
   "outputs": [],
   "source": [
    "# bob sends bits\n",
    "\n",
    "bobEncodedBits = [\"0\", \"1\", \"+\", \"-\", \"0\", \"1\", \"+\", \"-\"]\n",
    "\n",
    "def bobEncodingCircuit(E):\n",
    "    circuit = QuantumCircuit(1, 1)\n",
    "\n",
    "    if E == \"1\":\n",
    "        circuit.x(0)\n",
    "    if E == \"+\":\n",
    "        circuit.h(0)\n",
    "    if E == \"-\":\n",
    "        circuit.x(0)\n",
    "        circuit.h(0)\n",
    "    \n",
    "    return circuit\n",
    "\n",
    "bobCircuits = [bobEncodingCircuit(b) for b in bobEncodedBits]"
   ]
  },
  {
   "cell_type": "code",
   "execution_count": 243,
   "metadata": {},
   "outputs": [],
   "source": [
    "# send/tamper\n",
    "\n",
    "T = False # varible to decide if tampering should be performed\n",
    "# T = True # varible to decide if tampering should be performed\n",
    "\n",
    "# C = computational\n",
    "# H = hadamard\n",
    "\n",
    "tamperBases = ['H', 'C', 'H', 'C', 'H', 'H', 'C', 'C']\n",
    "\n",
    "if T:\n",
    "    for i in range(len(bobCircuits)):\n",
    "        bobCircuits[i] = performMeasurement(bobCircuits[i], 0, tamperBases[i])"
   ]
  },
  {
   "cell_type": "code",
   "execution_count": 244,
   "metadata": {},
   "outputs": [],
   "source": [
    "# alice measures first 4 bits\n",
    "\n",
    "aliceVerificationCircuits = [None]*4\n",
    "aliceVerificationBasis = [\"C\", \"C\", \"H\", \"C\"]\n",
    "\n",
    "verificationResult = [None]*4\n",
    "verificationCounts = [None]*4\n",
    "\n",
    "for i in range(4):\n",
    "\taliceVerificationCircuits[i] = performMeasurement(bobCircuits[i], 0, aliceVerificationBasis[i])\n",
    "\tverificationResult[i] = execute(aliceVerificationCircuits[i], backend=simulator).result()\n",
    "\tverificationCounts[i] = verificationResult[i].get_counts(aliceVerificationCircuits[i])"
   ]
  },
  {
   "cell_type": "code",
   "execution_count": 245,
   "metadata": {},
   "outputs": [],
   "source": [
    "# verify\n",
    "\n",
    "total = 4\n",
    "correct = 0\n",
    "\n",
    "for i in range(4):\n",
    "    if len(list(verificationCounts[i].keys())) == 1: # i.e. basis and measurement basis match\n",
    "        if aliceVerificationBasis[i] == 'C':\n",
    "            if (bobEncodedBits[i] == list(verificationCounts[i].keys())[0] == \"0\") or (bobEncodedBits[i] == list(verificationCounts[i].keys())[0] == \"1\"):\n",
    "                correct += 1\n",
    "        else:\n",
    "            if (bobEncodedBits[i] == \"+\" and list(verificationCounts[i].keys())[0] == \"0\") or (bobEncodedBits[i] == \"-\" and list(verificationCounts[i].keys())[0] == \"1\"):\n",
    "                correct += 1"
   ]
  },
  {
   "cell_type": "code",
   "execution_count": 246,
   "metadata": {},
   "outputs": [
    {
     "name": "stdout",
     "output_type": "stream",
     "text": [
      "Channel is secure\n",
      "Decoded message is:\n",
      "0 | 1 | 0 | 1\n"
     ]
    }
   ],
   "source": [
    "if correct/total < 0.5:\n",
    "    print(\"Eavesdropper present\")\n",
    "else:\n",
    "    print(\"Channel is secure\")\n",
    "\n",
    "    # encoding by alice\n",
    "\n",
    "    # application of U0 = I => 0\n",
    "    # application of U3 = iY = XZ => 1\n",
    "\n",
    "    message = [\"0\", \"1\", \"0\", \"1\"]\n",
    "\n",
    "    for i in range(4, 8):\n",
    "        if message[i-4] == \"1\":\n",
    "            bobCircuits[i].z(0)\n",
    "            bobCircuits[i].x(0)\n",
    "\n",
    "    # decoding by bob\n",
    "\n",
    "    decodingResult = [None]*4\n",
    "    decodingCounts = [None]*4\n",
    "\n",
    "    decodedMessage = []\n",
    "\n",
    "    for i in range(4, 8):\n",
    "        if bobEncodedBits[i] == \"0\" or bobEncodedBits[i] == \"1\":\n",
    "            bobCircuits[i] = performMeasurement(bobCircuits[i], 0, 'C')\n",
    "            decodingResult[i-4] = execute(bobCircuits[i], backend=simulator).result()\n",
    "            decodingCounts[i-4] = decodingResult[i-4].get_counts(bobCircuits[i])\n",
    "\n",
    "            if bobEncodedBits[i] == list(decodingCounts[i-4].keys())[0]:\n",
    "                decodedMessage.append(\"0\")\n",
    "            else:\n",
    "                decodedMessage.append(\"1\")\n",
    "        else:\n",
    "            bobCircuits[i] = performMeasurement(bobCircuits[i], 0, 'H')\n",
    "            decodingResult[i-4] = execute(bobCircuits[i], backend=simulator).result()\n",
    "            decodingCounts[i-4] = decodingResult[i-4].get_counts(bobCircuits[i])\n",
    "\n",
    "            if (bobEncodedBits[i] == \"+\" and list(decodingCounts[i-4].keys())[0] == \"0\") or (bobEncodedBits[i] == \"-\" and list(decodingCounts[i-4].keys())[0] == \"1\"):\n",
    "                decodedMessage.append(\"0\")\n",
    "            else:\n",
    "                decodedMessage.append(\"1\")\n",
    "        # print(decodingCounts[i-4])\n",
    "    print(\"Decoded message is:\")\n",
    "    print(\" | \".join(decodedMessage))"
   ]
  }
 ],
 "metadata": {
  "kernelspec": {
   "display_name": ".venv",
   "language": "python",
   "name": "python3"
  },
  "language_info": {
   "codemirror_mode": {
    "name": "ipython",
    "version": 3
   },
   "file_extension": ".py",
   "mimetype": "text/x-python",
   "name": "python",
   "nbconvert_exporter": "python",
   "pygments_lexer": "ipython3",
   "version": "3.9.13"
  },
  "orig_nbformat": 4
 },
 "nbformat": 4,
 "nbformat_minor": 2
}
