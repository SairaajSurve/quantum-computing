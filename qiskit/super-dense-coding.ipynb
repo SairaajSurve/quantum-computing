{
 "cells": [
  {
   "attachments": {},
   "cell_type": "markdown",
   "metadata": {},
   "source": [
    "# [Superdense coding](https://en.wikipedia.org/wiki/Superdense_coding)"
   ]
  },
  {
   "cell_type": "code",
   "execution_count": 35,
   "metadata": {},
   "outputs": [],
   "source": [
    "from qiskit import *\n",
    "simulator = Aer.get_backend('qasm_simulator')"
   ]
  },
  {
   "cell_type": "code",
   "execution_count": 36,
   "metadata": {},
   "outputs": [],
   "source": [
    "def bellStateEncoding(M):\n",
    "    '''\n",
    "    Encodes the qubits in the proper Bell State (based on the message)\n",
    "    '''\n",
    "    \n",
    "    circuit = QuantumCircuit(2, 2)\n",
    "    circuit.h(0)\n",
    "    circuit.cx(0, 1)\n",
    "\n",
    "    if M == \"01\":\n",
    "        circuit.x(0)\n",
    "\n",
    "    elif M == \"10\":\n",
    "        circuit.z(0)\n",
    "\n",
    "    elif M == \"11\":\n",
    "        circuit.x(0)\n",
    "        circuit.z(0)\n",
    "\n",
    "    return circuit"
   ]
  },
  {
   "cell_type": "code",
   "execution_count": 37,
   "metadata": {},
   "outputs": [],
   "source": [
    "def decoding(circuit):\n",
    "    circuit.cx(0, 1)\n",
    "    circuit.h(0)\n",
    "    return circuit"
   ]
  },
  {
   "cell_type": "code",
   "execution_count": 38,
   "metadata": {},
   "outputs": [],
   "source": [
    "def measurement(circuit):\n",
    "    circuit.measure([0, 1], [0, 1])\n",
    "    return circuit"
   ]
  },
  {
   "cell_type": "code",
   "execution_count": 50,
   "metadata": {},
   "outputs": [],
   "source": [
    "M = \"01\"\n",
    "circuit = bellStateEncoding(M)\n",
    "circuit = decoding(circuit)\n",
    "circuit = measurement(circuit)"
   ]
  },
  {
   "attachments": {},
   "cell_type": "markdown",
   "metadata": {},
   "source": [
    "counts = `Qn x .. Q1 x Q0`"
   ]
  },
  {
   "cell_type": "code",
   "execution_count": 49,
   "metadata": {},
   "outputs": [
    {
     "data": {
      "text/plain": [
       "{'10': 1024}"
      ]
     },
     "execution_count": 49,
     "metadata": {},
     "output_type": "execute_result"
    }
   ],
   "source": [
    "result = execute(circuit, backend=simulator, shots=1024).result()\n",
    "count = result.get_counts(circuit)\n",
    "count"
   ]
  },
  {
   "cell_type": "code",
   "execution_count": 41,
   "metadata": {},
   "outputs": [
    {
     "data": {
      "text/html": [
       "<pre style=\"word-wrap: normal;white-space: pre;background: #fff0;line-height: 1.1;font-family: &quot;Courier New&quot;,Courier,monospace\">        ┌───┐     ┌───┐     ┌───┐┌─┐\n",
       "q_0: |0>┤ H ├──■──┤ Z ├──■──┤ H ├┤M├\n",
       "        └───┘┌─┴─┐└───┘┌─┴─┐└┬─┬┘└╥┘\n",
       "q_1: |0>─────┤ X ├─────┤ X ├─┤M├──╫─\n",
       "             └───┘     └───┘ └╥┘  ║ \n",
       " c_0: 0 ══════════════════════╬═══╩═\n",
       "                              ║     \n",
       " c_1: 0 ══════════════════════╩═════\n",
       "                                    </pre>"
      ],
      "text/plain": [
       "        ┌───┐     ┌───┐     ┌───┐┌─┐\n",
       "q_0: |0>┤ H ├──■──┤ Z ├──■──┤ H ├┤M├\n",
       "        └───┘┌─┴─┐└───┘┌─┴─┐└┬─┬┘└╥┘\n",
       "q_1: |0>─────┤ X ├─────┤ X ├─┤M├──╫─\n",
       "             └───┘     └───┘ └╥┘  ║ \n",
       " c_0: 0 ══════════════════════╬═══╩═\n",
       "                              ║     \n",
       " c_1: 0 ══════════════════════╩═════\n",
       "                                    "
      ]
     },
     "execution_count": 41,
     "metadata": {},
     "output_type": "execute_result"
    }
   ],
   "source": [
    "circuit.draw(initial_state=True, cregbundle=False)"
   ]
  }
 ],
 "metadata": {
  "kernelspec": {
   "display_name": ".venv",
   "language": "python",
   "name": "python3"
  },
  "language_info": {
   "codemirror_mode": {
    "name": "ipython",
    "version": 3
   },
   "file_extension": ".py",
   "mimetype": "text/x-python",
   "name": "python",
   "nbconvert_exporter": "python",
   "pygments_lexer": "ipython3",
   "version": "3.9.13"
  },
  "orig_nbformat": 4
 },
 "nbformat": 4,
 "nbformat_minor": 2
}
