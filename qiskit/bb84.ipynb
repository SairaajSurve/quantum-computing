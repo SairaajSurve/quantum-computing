{
 "cells": [
  {
   "cell_type": "code",
   "execution_count": 31,
   "metadata": {},
   "outputs": [],
   "source": [
    "from qiskit import *\n",
    "simulator = Aer.get_backend('qasm_simulator')"
   ]
  },
  {
   "cell_type": "code",
   "execution_count": 32,
   "metadata": {},
   "outputs": [],
   "source": [
    "a = \"0011\"\n",
    "b = \"0101\""
   ]
  },
  {
   "cell_type": "code",
   "execution_count": 33,
   "metadata": {},
   "outputs": [],
   "source": [
    "def encode(ai, bi):\n",
    "    circuit = QuantumCircuit(1 , 1)\n",
    "    if ai == \"1\":\n",
    "        circuit.x(0)\n",
    "    if bi == \"1\":\n",
    "        circuit.h(0)\n",
    "    return circuit"
   ]
  },
  {
   "cell_type": "code",
   "execution_count": 34,
   "metadata": {},
   "outputs": [],
   "source": [
    "circuits = [encode(a[i], b[i]) for i in range(len(a))]"
   ]
  },
  {
   "cell_type": "code",
   "execution_count": 35,
   "metadata": {},
   "outputs": [],
   "source": [
    "# tamper\n",
    "T = False\n",
    "t = '1111'\n",
    "if T:\n",
    "    for i in range(len(t)):\n",
    "        if t[i] == \"1\":\n",
    "            circuits[i].h(0)\n",
    "        circuits[i].measure(0, 0)"
   ]
  },
  {
   "cell_type": "code",
   "execution_count": 36,
   "metadata": {},
   "outputs": [],
   "source": [
    "# bob measure\n",
    "b_prime = \"0001\"\n",
    "\n",
    "for i in range(len(b_prime)):\n",
    "    if b_prime[i] == \"1\":\n",
    "        circuits[i].h(0)\n",
    "    circuits[i].measure(0, 0)"
   ]
  },
  {
   "cell_type": "code",
   "execution_count": 37,
   "metadata": {},
   "outputs": [
    {
     "data": {
      "text/plain": [
       "{'0': 1}"
      ]
     },
     "execution_count": 37,
     "metadata": {},
     "output_type": "execute_result"
    }
   ],
   "source": [
    "results = [None]*len(circuits)\n",
    "counts = [None]*len(circuits)\n",
    "for i in range(len(circuits)):\n",
    "    results[i] = execute(circuits[i], backend=simulator, shots=1).result()\n",
    "    counts[i] = results[i].get_counts(circuits[i])\n",
    "counts[0]"
   ]
  },
  {
   "cell_type": "code",
   "execution_count": 38,
   "metadata": {},
   "outputs": [
    {
     "data": {
      "text/plain": [
       "['0', '1', '1', '1']"
      ]
     },
     "execution_count": 38,
     "metadata": {},
     "output_type": "execute_result"
    }
   ],
   "source": [
    "a_prime = [list(count.keys())[0] for count in counts]\n",
    "a_prime"
   ]
  },
  {
   "attachments": {},
   "cell_type": "markdown",
   "metadata": {},
   "source": [
    "sample a and a_prime where b == b_prime  \n",
    "if considerable number of the sampled bits match  \n",
    "then eavesdropper is not present  "
   ]
  }
 ],
 "metadata": {
  "kernelspec": {
   "display_name": ".venv",
   "language": "python",
   "name": "python3"
  },
  "language_info": {
   "codemirror_mode": {
    "name": "ipython",
    "version": 3
   },
   "file_extension": ".py",
   "mimetype": "text/x-python",
   "name": "python",
   "nbconvert_exporter": "python",
   "pygments_lexer": "ipython3",
   "version": "3.9.13"
  },
  "orig_nbformat": 4
 },
 "nbformat": 4,
 "nbformat_minor": 2
}
