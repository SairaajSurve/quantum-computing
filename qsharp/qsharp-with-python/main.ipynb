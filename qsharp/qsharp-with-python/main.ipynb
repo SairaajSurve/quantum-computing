{
 "cells": [
  {
   "cell_type": "code",
   "execution_count": 1,
   "metadata": {},
   "outputs": [
    {
     "name": "stdout",
     "output_type": "stream",
     "text": [
      "Preparing Q# environment...\n",
      "Hello, quantum world!\n",
      "()\n"
     ]
    }
   ],
   "source": [
    "import qsharp\n",
    "from HostPython import SayHello\n",
    "print(SayHello.simulate(name=\"quantum world\"))"
   ]
  }
 ],
 "metadata": {
  "kernelspec": {
   "display_name": "Python 3",
   "language": "python",
   "name": "python3"
  },
  "language_info": {
   "codemirror_mode": {
    "name": "ipython",
    "version": 3
   },
   "file_extension": ".py",
   "mimetype": "text/x-python",
   "name": "python",
   "nbconvert_exporter": "python",
   "pygments_lexer": "ipython3",
   "version": "3.10.8"
  },
  "orig_nbformat": 4,
  "vscode": {
   "interpreter": {
    "hash": "5d50a6c465b30638282eab4bf928a91781f77c490aac1f6912f323b30ec812af"
   }
  }
 },
 "nbformat": 4,
 "nbformat_minor": 2
}
